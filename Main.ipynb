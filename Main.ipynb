{
 "cells": [
  {
   "cell_type": "code",
   "execution_count": 97,
   "id": "9fe2f2e7",
   "metadata": {},
   "outputs": [],
   "source": [
    "import requests\n",
    "import xml.etree.ElementTree as ET\n",
    "import csv\n",
    "import json\n",
    "#from dominodatalab import DominoClient\n",
    "\n",
    "# Make a request to the API\n",
    "response = requests.get(\"https://clinicaltrials.gov/api/query/full_studies?expr=&min_rnk=1&max_rnk=100&fmt=xml\")"
   ]
  },
  {
   "cell_type": "code",
   "execution_count": 98,
   "id": "29e592dc",
   "metadata": {},
   "outputs": [],
   "source": [
    "# Parse the XML response\n",
    "root = ET.fromstring(response.content)"
   ]
  },
  {
   "cell_type": "code",
   "execution_count": 100,
   "id": "3be27d7d",
   "metadata": {},
   "outputs": [],
   "source": [
    "# Parse the XML string\n",
    "#xml_string = \"\"\"<FullStudyList><FullStudy Rank=\"1\"><Struct Name=\"Study\"><Struct Name=\"ProtocolSection\"><Struct Name=\"IdentificationModule\"><Field Name=\"NCTId\">NCT05831969</Field></Struct></Struct></Struct></FullStudy><FullStudy Rank=\"2\"><Struct Name=\"Study\"><Struct Name=\"ProtocolSection\"><Struct Name=\"IdentificationModule\"><Field Name=\"NCTId\">NCT05831970</Field></Struct></Struct></Struct></FullStudy></FullStudyList>\"\"\"\n",
    "fields_to_fetch = ['NCTId', 'BriefTitle', 'OfficialTitle', 'OrgFullName', 'LeadSponsorName', 'IsFDARegulatedDrug', 'IsFDARegulatedDevice', 'Keyword', 'StudyType', 'PrimaryOutcomeDescription', 'SecondaryOutcomeDescription', 'Gender', 'MinimumAge', 'MaximumAge', 'Phase', 'DesignPrimaryPurpose', 'Condition', 'InterventionName', 'BriefSummary', 'DetailedDescription']\n",
    "\n",
    "#root1 = ET.fromstring(xml_string)\n",
    "\n",
    "nct_ids = []\n",
    "for full_study in root.findall('.//FullStudy'):\n",
    "    study = {}\n",
    "    for child in full_study.iter('Field'):\n",
    "        name = child.attrib['Name']\n",
    "        #print(name)\n",
    "        if name in fields_to_fetch:\n",
    "            study[name] = child.text\n",
    "    nct_ids.append(study)\n",
    "\n",
    "with open(\"clinical_trials.csv\", \"w\") as csvfile:\n",
    "    writer = csv.DictWriter(csvfile, fieldnames=fields_to_fetch)\n",
    "    writer.writeheader()\n",
    "    for row in nct_ids:\n",
    "        #print('writing row' + json.dumps(row))\n",
    "        writer.writerow(row)\n",
    "#print(nct_ids)"
   ]
  },
  {
   "cell_type": "code",
   "execution_count": null,
   "id": "1acbc4e2",
   "metadata": {},
   "outputs": [],
   "source": []
  },
  {
   "cell_type": "code",
   "execution_count": null,
   "id": "a921cfbd",
   "metadata": {},
   "outputs": [],
   "source": []
  },
  {
   "cell_type": "code",
   "execution_count": null,
   "id": "3329e989",
   "metadata": {},
   "outputs": [],
   "source": []
  },
  {
   "cell_type": "code",
   "execution_count": null,
   "id": "57f12dd0",
   "metadata": {},
   "outputs": [],
   "source": []
  },
  {
   "cell_type": "code",
   "execution_count": null,
   "id": "0870dd8a",
   "metadata": {},
   "outputs": [],
   "source": []
  },
  {
   "cell_type": "code",
   "execution_count": null,
   "id": "371a726f",
   "metadata": {},
   "outputs": [],
   "source": []
  }
 ],
 "metadata": {
  "kernelspec": {
   "display_name": "Python 3 (ipykernel)",
   "language": "python",
   "name": "python3"
  },
  "language_info": {
   "codemirror_mode": {
    "name": "ipython",
    "version": 3
   },
   "file_extension": ".py",
   "mimetype": "text/x-python",
   "name": "python",
   "nbconvert_exporter": "python",
   "pygments_lexer": "ipython3",
   "version": "3.8.12"
  }
 },
 "nbformat": 4,
 "nbformat_minor": 5
}
